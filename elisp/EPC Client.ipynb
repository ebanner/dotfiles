{
 "cells": [
  {
   "cell_type": "markdown",
   "metadata": {
    "ein.tags": "worksheet-0",
    "slideshow": {
     "slide_type": "-"
    }
   },
   "source": [
    "# Register Python to Emacs"
   ]
  },
  {
   "cell_type": "code",
   "execution_count": 391,
   "metadata": {
    "autoscroll": false,
    "collapsed": false,
    "ein.tags": "worksheet-0",
    "slideshow": {
     "slide_type": "-"
    }
   },
   "outputs": [
    {
     "data": {
      "text/plain": [
       "<epc.client.EPCClient at 0x127ed6390>"
      ]
     },
     "execution_count": 391,
     "metadata": {},
     "output_type": "execute_result"
    }
   ],
   "source": [
    "from epc.client import EPCClient\n",
    "import time\n",
    "\n",
    "epc_client = EPCClient(('localhost', 9999), log_traceback=True)\n",
    "\n",
    "def __cell__(content, buffer_name, cell_type):\n",
    "    elisp_func = 'make-code-cell-and-eval'\n",
    "    epc_client.call_sync(elisp_func, args=[content, buffer_name, cell_type])\n",
    "    time.sleep(0.01)\n",
    "\n",
    "epc_client"
   ]
  }
 ],
 "metadata": {
  "kernelspec": {
   "display_name": "Python 3",
   "name": "python3"
  },
  "language_info": {
   "codemirror_mode": {
    "name": "ipython",
    "version": 3
   },
   "file_extension": ".py",
   "mimetype": "text/x-python",
   "name": "python",
   "nbconvert_exporter": "python",
   "pygments_lexer": "ipython3",
   "version": "3.6.1"
  },
  "name": "EPC Client.ipynb"
 },
 "nbformat": 4,
 "nbformat_minor": 2
}
