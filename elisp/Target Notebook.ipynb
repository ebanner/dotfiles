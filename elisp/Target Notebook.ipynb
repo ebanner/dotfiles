{
 "cells": [
  {
   "cell_type": "markdown",
   "metadata": {
    "ein.tags": "worksheet-0",
    "slideshow": {
     "slide_type": "-"
    }
   },
   "source": [
    "# Register Python to Emacs"
   ]
  },
  {
   "cell_type": "code",
   "execution_count": 414,
   "metadata": {
    "autoscroll": false,
    "collapsed": false,
    "ein.tags": "worksheet-0",
    "slideshow": {
     "slide_type": "-"
    }
   },
   "outputs": [
    {
     "data": {
      "text/plain": [
       "<epc.client.EPCClient at 0x127f68a20>"
      ]
     },
     "execution_count": 414,
     "metadata": {},
     "output_type": "execute_result"
    }
   ],
   "source": [
    "from epc.client import EPCClient\n",
    "import time\n",
    "\n",
    "epc_client = EPCClient(('localhost', 9999), log_traceback=True)\n",
    "\n",
    "def __cell__(content, buffer_name, cell_type):\n",
    "    elisp_func = 'make-code-cell-and-eval'\n",
    "    epc_client.call_sync(elisp_func, args=[content, buffer_name, cell_type])\n",
    "    time.sleep(0.01)\n",
    "\n",
    "epc_client"
   ]
  },
  {
   "cell_type": "markdown",
   "metadata": {
    "ein.tags": "worksheet-1",
    "slideshow": {
     "slide_type": "-"
    }
   },
   "source": [
    "# Vectorizerbulk"
   ]
  },
  {
   "cell_type": "markdown",
   "metadata": {
    "ein.tags": "worksheet-1",
    "slideshow": {
     "slide_type": "-"
    }
   },
   "source": [
    "\n",
    "Takes a MOD payload, iterates over the detections, vectorizes each detection,\n",
    "and passes vectors to faiss for VSS.\n",
    "mod_payload keys\n",
    "----------------\n",
    "image_url : url of the scene\n",
    "objects : iterable of detections in the scene\n",
    "detection keys\n",
    "--------------\n",
    "box_coords_denormalized : (x1, y1, x2, y2) bounding box coordinates\n",
    "Returns\n",
    "\n"
   ]
  },
  {
   "cell_type": "markdown",
   "metadata": {
    "ein.tags": "worksheet-1",
    "slideshow": {
     "slide_type": "-"
    }
   },
   "source": [
    "# Example Input"
   ]
  },
  {
   "cell_type": "code",
   "execution_count": null,
   "metadata": {
    "autoscroll": false,
    "collapsed": false,
    "ein.tags": "worksheet-1",
    "slideshow": {
     "slide_type": "-"
    }
   },
   "outputs": [],
   "source": [
    "mod_payload = {'id': 1, 'image_url':\n",
    "    'https://mosss-images.s3.amazonaws.com/I8sVGfhTDVoRskvojTVuaaqOfhXEPaeURSffVVmm.jpeg'\n",
    "    , 'objects': [{'class_name': 'picture', 'box_coords_normalized': [0.4,\n",
    "    0.4, 0.6, 0.6]}]}\n",
    "mod_payload"
   ]
  },
  {
   "cell_type": "markdown",
   "metadata": {
    "ein.tags": "worksheet-1",
    "slideshow": {
     "slide_type": "-"
    }
   },
   "source": [
    "# Body of Function"
   ]
  },
  {
   "cell_type": "code",
   "execution_count": 411,
   "metadata": {
    "autoscroll": false,
    "collapsed": false,
    "ein.tags": "worksheet-2",
    "slideshow": {
     "slide_type": "-"
    }
   },
   "outputs": [],
   "source": [
    "pass"
   ]
  },
  {
   "cell_type": "code",
   "execution_count": 410,
   "metadata": {
    "autoscroll": false,
    "collapsed": false,
    "ein.tags": "worksheet-3",
    "slideshow": {
     "slide_type": "-"
    }
   },
   "outputs": [],
   "source": [
    "pass"
   ]
  },
  {
   "cell_type": "code",
   "execution_count": 409,
   "metadata": {
    "autoscroll": false,
    "collapsed": false,
    "ein.tags": "worksheet-4",
    "slideshow": {
     "slide_type": "-"
    }
   },
   "outputs": [],
   "source": [
    "pass"
   ]
  },
  {
   "cell_type": "code",
   "execution_count": 408,
   "metadata": {
    "autoscroll": false,
    "collapsed": false,
    "ein.tags": "worksheet-5",
    "slideshow": {
     "slide_type": "-"
    }
   },
   "outputs": [],
   "source": [
    "pass"
   ]
  },
  {
   "cell_type": "code",
   "execution_count": 406,
   "metadata": {
    "autoscroll": false,
    "collapsed": false,
    "ein.tags": "worksheet-7",
    "slideshow": {
     "slide_type": "-"
    }
   },
   "outputs": [],
   "source": [
    "pass"
   ]
  }
 ],
 "metadata": {
  "kernelspec": {
   "display_name": "Python 3",
   "name": "python3"
  },
  "language_info": {
   "codemirror_mode": {
    "name": "ipython",
    "version": 3
   },
   "file_extension": ".py",
   "mimetype": "text/x-python",
   "name": "python",
   "nbconvert_exporter": "python",
   "pygments_lexer": "ipython3",
   "version": "3.6.1"
  },
  "name": "EPC Client.ipynb"
 },
 "nbformat": 4,
 "nbformat_minor": 2
}
